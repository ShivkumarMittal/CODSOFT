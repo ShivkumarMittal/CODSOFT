{
 "cells": [
  {
   "cell_type": "markdown",
   "id": "ff1d89a9",
   "metadata": {},
   "source": [
    "CODSOFT INTERNSHIP   \n",
    "TASK 5 : CREDIT CARD FRAUD DETECTION\n",
    "SUBMITTED BY : SHIVKUMAR MITTAL"
   ]
  },
  {
   "cell_type": "code",
   "execution_count": 41,
   "id": "396e1db2",
   "metadata": {},
   "outputs": [],
   "source": [
    "# import library\n",
    "import pandas as pd\n",
    "import numpy as np"
   ]
  },
  {
   "cell_type": "code",
   "execution_count": 42,
   "id": "437d3ea7",
   "metadata": {},
   "outputs": [],
   "source": [
    "# Read the csv file\n",
    "df = pd.read_csv('creditcard.csv')"
   ]
  },
  {
   "cell_type": "code",
   "execution_count": 43,
   "id": "d2cf37a1",
   "metadata": {},
   "outputs": [
    {
     "data": {
      "text/html": [
       "<div>\n",
       "<style scoped>\n",
       "    .dataframe tbody tr th:only-of-type {\n",
       "        vertical-align: middle;\n",
       "    }\n",
       "\n",
       "    .dataframe tbody tr th {\n",
       "        vertical-align: top;\n",
       "    }\n",
       "\n",
       "    .dataframe thead th {\n",
       "        text-align: right;\n",
       "    }\n",
       "</style>\n",
       "<table border=\"1\" class=\"dataframe\">\n",
       "  <thead>\n",
       "    <tr style=\"text-align: right;\">\n",
       "      <th></th>\n",
       "      <th>Time</th>\n",
       "      <th>V1</th>\n",
       "      <th>V2</th>\n",
       "      <th>V3</th>\n",
       "      <th>V4</th>\n",
       "      <th>V5</th>\n",
       "      <th>V6</th>\n",
       "      <th>V7</th>\n",
       "      <th>V8</th>\n",
       "      <th>V9</th>\n",
       "      <th>...</th>\n",
       "      <th>V21</th>\n",
       "      <th>V22</th>\n",
       "      <th>V23</th>\n",
       "      <th>V24</th>\n",
       "      <th>V25</th>\n",
       "      <th>V26</th>\n",
       "      <th>V27</th>\n",
       "      <th>V28</th>\n",
       "      <th>Amount</th>\n",
       "      <th>Class</th>\n",
       "    </tr>\n",
       "  </thead>\n",
       "  <tbody>\n",
       "    <tr>\n",
       "      <th>0</th>\n",
       "      <td>0.0</td>\n",
       "      <td>-1.359807</td>\n",
       "      <td>-0.072781</td>\n",
       "      <td>2.536347</td>\n",
       "      <td>1.378155</td>\n",
       "      <td>-0.338321</td>\n",
       "      <td>0.462388</td>\n",
       "      <td>0.239599</td>\n",
       "      <td>0.098698</td>\n",
       "      <td>0.363787</td>\n",
       "      <td>...</td>\n",
       "      <td>-0.018307</td>\n",
       "      <td>0.277838</td>\n",
       "      <td>-0.110474</td>\n",
       "      <td>0.066928</td>\n",
       "      <td>0.128539</td>\n",
       "      <td>-0.189115</td>\n",
       "      <td>0.133558</td>\n",
       "      <td>-0.021053</td>\n",
       "      <td>149.62</td>\n",
       "      <td>0</td>\n",
       "    </tr>\n",
       "    <tr>\n",
       "      <th>1</th>\n",
       "      <td>0.0</td>\n",
       "      <td>1.191857</td>\n",
       "      <td>0.266151</td>\n",
       "      <td>0.166480</td>\n",
       "      <td>0.448154</td>\n",
       "      <td>0.060018</td>\n",
       "      <td>-0.082361</td>\n",
       "      <td>-0.078803</td>\n",
       "      <td>0.085102</td>\n",
       "      <td>-0.255425</td>\n",
       "      <td>...</td>\n",
       "      <td>-0.225775</td>\n",
       "      <td>-0.638672</td>\n",
       "      <td>0.101288</td>\n",
       "      <td>-0.339846</td>\n",
       "      <td>0.167170</td>\n",
       "      <td>0.125895</td>\n",
       "      <td>-0.008983</td>\n",
       "      <td>0.014724</td>\n",
       "      <td>2.69</td>\n",
       "      <td>0</td>\n",
       "    </tr>\n",
       "    <tr>\n",
       "      <th>2</th>\n",
       "      <td>1.0</td>\n",
       "      <td>-1.358354</td>\n",
       "      <td>-1.340163</td>\n",
       "      <td>1.773209</td>\n",
       "      <td>0.379780</td>\n",
       "      <td>-0.503198</td>\n",
       "      <td>1.800499</td>\n",
       "      <td>0.791461</td>\n",
       "      <td>0.247676</td>\n",
       "      <td>-1.514654</td>\n",
       "      <td>...</td>\n",
       "      <td>0.247998</td>\n",
       "      <td>0.771679</td>\n",
       "      <td>0.909412</td>\n",
       "      <td>-0.689281</td>\n",
       "      <td>-0.327642</td>\n",
       "      <td>-0.139097</td>\n",
       "      <td>-0.055353</td>\n",
       "      <td>-0.059752</td>\n",
       "      <td>378.66</td>\n",
       "      <td>0</td>\n",
       "    </tr>\n",
       "    <tr>\n",
       "      <th>3</th>\n",
       "      <td>1.0</td>\n",
       "      <td>-0.966272</td>\n",
       "      <td>-0.185226</td>\n",
       "      <td>1.792993</td>\n",
       "      <td>-0.863291</td>\n",
       "      <td>-0.010309</td>\n",
       "      <td>1.247203</td>\n",
       "      <td>0.237609</td>\n",
       "      <td>0.377436</td>\n",
       "      <td>-1.387024</td>\n",
       "      <td>...</td>\n",
       "      <td>-0.108300</td>\n",
       "      <td>0.005274</td>\n",
       "      <td>-0.190321</td>\n",
       "      <td>-1.175575</td>\n",
       "      <td>0.647376</td>\n",
       "      <td>-0.221929</td>\n",
       "      <td>0.062723</td>\n",
       "      <td>0.061458</td>\n",
       "      <td>123.50</td>\n",
       "      <td>0</td>\n",
       "    </tr>\n",
       "    <tr>\n",
       "      <th>4</th>\n",
       "      <td>2.0</td>\n",
       "      <td>-1.158233</td>\n",
       "      <td>0.877737</td>\n",
       "      <td>1.548718</td>\n",
       "      <td>0.403034</td>\n",
       "      <td>-0.407193</td>\n",
       "      <td>0.095921</td>\n",
       "      <td>0.592941</td>\n",
       "      <td>-0.270533</td>\n",
       "      <td>0.817739</td>\n",
       "      <td>...</td>\n",
       "      <td>-0.009431</td>\n",
       "      <td>0.798278</td>\n",
       "      <td>-0.137458</td>\n",
       "      <td>0.141267</td>\n",
       "      <td>-0.206010</td>\n",
       "      <td>0.502292</td>\n",
       "      <td>0.219422</td>\n",
       "      <td>0.215153</td>\n",
       "      <td>69.99</td>\n",
       "      <td>0</td>\n",
       "    </tr>\n",
       "  </tbody>\n",
       "</table>\n",
       "<p>5 rows × 31 columns</p>\n",
       "</div>"
      ],
      "text/plain": [
       "   Time        V1        V2        V3        V4        V5        V6        V7  \\\n",
       "0   0.0 -1.359807 -0.072781  2.536347  1.378155 -0.338321  0.462388  0.239599   \n",
       "1   0.0  1.191857  0.266151  0.166480  0.448154  0.060018 -0.082361 -0.078803   \n",
       "2   1.0 -1.358354 -1.340163  1.773209  0.379780 -0.503198  1.800499  0.791461   \n",
       "3   1.0 -0.966272 -0.185226  1.792993 -0.863291 -0.010309  1.247203  0.237609   \n",
       "4   2.0 -1.158233  0.877737  1.548718  0.403034 -0.407193  0.095921  0.592941   \n",
       "\n",
       "         V8        V9  ...       V21       V22       V23       V24       V25  \\\n",
       "0  0.098698  0.363787  ... -0.018307  0.277838 -0.110474  0.066928  0.128539   \n",
       "1  0.085102 -0.255425  ... -0.225775 -0.638672  0.101288 -0.339846  0.167170   \n",
       "2  0.247676 -1.514654  ...  0.247998  0.771679  0.909412 -0.689281 -0.327642   \n",
       "3  0.377436 -1.387024  ... -0.108300  0.005274 -0.190321 -1.175575  0.647376   \n",
       "4 -0.270533  0.817739  ... -0.009431  0.798278 -0.137458  0.141267 -0.206010   \n",
       "\n",
       "        V26       V27       V28  Amount  Class  \n",
       "0 -0.189115  0.133558 -0.021053  149.62      0  \n",
       "1  0.125895 -0.008983  0.014724    2.69      0  \n",
       "2 -0.139097 -0.055353 -0.059752  378.66      0  \n",
       "3 -0.221929  0.062723  0.061458  123.50      0  \n",
       "4  0.502292  0.219422  0.215153   69.99      0  \n",
       "\n",
       "[5 rows x 31 columns]"
      ]
     },
     "execution_count": 43,
     "metadata": {},
     "output_type": "execute_result"
    }
   ],
   "source": [
    "df.head()"
   ]
  },
  {
   "cell_type": "code",
   "execution_count": 44,
   "id": "dd8c8896",
   "metadata": {},
   "outputs": [
    {
     "data": {
      "text/plain": [
       "(284807, 31)"
      ]
     },
     "execution_count": 44,
     "metadata": {},
     "output_type": "execute_result"
    }
   ],
   "source": [
    "df.shape"
   ]
  },
  {
   "cell_type": "code",
   "execution_count": 45,
   "id": "9e39cd67",
   "metadata": {},
   "outputs": [
    {
     "name": "stdout",
     "output_type": "stream",
     "text": [
      "<class 'pandas.core.frame.DataFrame'>\n",
      "RangeIndex: 284807 entries, 0 to 284806\n",
      "Data columns (total 31 columns):\n",
      " #   Column  Non-Null Count   Dtype  \n",
      "---  ------  --------------   -----  \n",
      " 0   Time    284807 non-null  float64\n",
      " 1   V1      284807 non-null  float64\n",
      " 2   V2      284807 non-null  float64\n",
      " 3   V3      284807 non-null  float64\n",
      " 4   V4      284807 non-null  float64\n",
      " 5   V5      284807 non-null  float64\n",
      " 6   V6      284807 non-null  float64\n",
      " 7   V7      284807 non-null  float64\n",
      " 8   V8      284807 non-null  float64\n",
      " 9   V9      284807 non-null  float64\n",
      " 10  V10     284807 non-null  float64\n",
      " 11  V11     284807 non-null  float64\n",
      " 12  V12     284807 non-null  float64\n",
      " 13  V13     284807 non-null  float64\n",
      " 14  V14     284807 non-null  float64\n",
      " 15  V15     284807 non-null  float64\n",
      " 16  V16     284807 non-null  float64\n",
      " 17  V17     284807 non-null  float64\n",
      " 18  V18     284807 non-null  float64\n",
      " 19  V19     284807 non-null  float64\n",
      " 20  V20     284807 non-null  float64\n",
      " 21  V21     284807 non-null  float64\n",
      " 22  V22     284807 non-null  float64\n",
      " 23  V23     284807 non-null  float64\n",
      " 24  V24     284807 non-null  float64\n",
      " 25  V25     284807 non-null  float64\n",
      " 26  V26     284807 non-null  float64\n",
      " 27  V27     284807 non-null  float64\n",
      " 28  V28     284807 non-null  float64\n",
      " 29  Amount  284807 non-null  float64\n",
      " 30  Class   284807 non-null  int64  \n",
      "dtypes: float64(30), int64(1)\n",
      "memory usage: 67.4 MB\n"
     ]
    }
   ],
   "source": [
    "df.info()"
   ]
  },
  {
   "cell_type": "code",
   "execution_count": 46,
   "id": "3065de45",
   "metadata": {},
   "outputs": [
    {
     "data": {
      "text/plain": [
       "Time      0\n",
       "V1        0\n",
       "V2        0\n",
       "V3        0\n",
       "V4        0\n",
       "V5        0\n",
       "V6        0\n",
       "V7        0\n",
       "V8        0\n",
       "V9        0\n",
       "V10       0\n",
       "V11       0\n",
       "V12       0\n",
       "V13       0\n",
       "V14       0\n",
       "V15       0\n",
       "V16       0\n",
       "V17       0\n",
       "V18       0\n",
       "V19       0\n",
       "V20       0\n",
       "V21       0\n",
       "V22       0\n",
       "V23       0\n",
       "V24       0\n",
       "V25       0\n",
       "V26       0\n",
       "V27       0\n",
       "V28       0\n",
       "Amount    0\n",
       "Class     0\n",
       "dtype: int64"
      ]
     },
     "execution_count": 46,
     "metadata": {},
     "output_type": "execute_result"
    }
   ],
   "source": [
    "df.isnull().sum()"
   ]
  },
  {
   "cell_type": "code",
   "execution_count": 47,
   "id": "ebf45848",
   "metadata": {},
   "outputs": [],
   "source": [
    "from sklearn.preprocessing import StandardScaler"
   ]
  },
  {
   "cell_type": "code",
   "execution_count": 48,
   "id": "9bce02b6",
   "metadata": {},
   "outputs": [],
   "source": [
    "# apply stsndard scaler on amount column\n",
    "sc = StandardScaler()\n",
    "df['Amount'] = sc.fit_transform(df[['Amount']])"
   ]
  },
  {
   "cell_type": "code",
   "execution_count": 49,
   "id": "deeb6449",
   "metadata": {},
   "outputs": [
    {
     "data": {
      "text/html": [
       "<div>\n",
       "<style scoped>\n",
       "    .dataframe tbody tr th:only-of-type {\n",
       "        vertical-align: middle;\n",
       "    }\n",
       "\n",
       "    .dataframe tbody tr th {\n",
       "        vertical-align: top;\n",
       "    }\n",
       "\n",
       "    .dataframe thead th {\n",
       "        text-align: right;\n",
       "    }\n",
       "</style>\n",
       "<table border=\"1\" class=\"dataframe\">\n",
       "  <thead>\n",
       "    <tr style=\"text-align: right;\">\n",
       "      <th></th>\n",
       "      <th>Time</th>\n",
       "      <th>V1</th>\n",
       "      <th>V2</th>\n",
       "      <th>V3</th>\n",
       "      <th>V4</th>\n",
       "      <th>V5</th>\n",
       "      <th>V6</th>\n",
       "      <th>V7</th>\n",
       "      <th>V8</th>\n",
       "      <th>V9</th>\n",
       "      <th>...</th>\n",
       "      <th>V21</th>\n",
       "      <th>V22</th>\n",
       "      <th>V23</th>\n",
       "      <th>V24</th>\n",
       "      <th>V25</th>\n",
       "      <th>V26</th>\n",
       "      <th>V27</th>\n",
       "      <th>V28</th>\n",
       "      <th>Amount</th>\n",
       "      <th>Class</th>\n",
       "    </tr>\n",
       "  </thead>\n",
       "  <tbody>\n",
       "    <tr>\n",
       "      <th>0</th>\n",
       "      <td>0.0</td>\n",
       "      <td>-1.359807</td>\n",
       "      <td>-0.072781</td>\n",
       "      <td>2.536347</td>\n",
       "      <td>1.378155</td>\n",
       "      <td>-0.338321</td>\n",
       "      <td>0.462388</td>\n",
       "      <td>0.239599</td>\n",
       "      <td>0.098698</td>\n",
       "      <td>0.363787</td>\n",
       "      <td>...</td>\n",
       "      <td>-0.018307</td>\n",
       "      <td>0.277838</td>\n",
       "      <td>-0.110474</td>\n",
       "      <td>0.066928</td>\n",
       "      <td>0.128539</td>\n",
       "      <td>-0.189115</td>\n",
       "      <td>0.133558</td>\n",
       "      <td>-0.021053</td>\n",
       "      <td>0.244964</td>\n",
       "      <td>0</td>\n",
       "    </tr>\n",
       "    <tr>\n",
       "      <th>1</th>\n",
       "      <td>0.0</td>\n",
       "      <td>1.191857</td>\n",
       "      <td>0.266151</td>\n",
       "      <td>0.166480</td>\n",
       "      <td>0.448154</td>\n",
       "      <td>0.060018</td>\n",
       "      <td>-0.082361</td>\n",
       "      <td>-0.078803</td>\n",
       "      <td>0.085102</td>\n",
       "      <td>-0.255425</td>\n",
       "      <td>...</td>\n",
       "      <td>-0.225775</td>\n",
       "      <td>-0.638672</td>\n",
       "      <td>0.101288</td>\n",
       "      <td>-0.339846</td>\n",
       "      <td>0.167170</td>\n",
       "      <td>0.125895</td>\n",
       "      <td>-0.008983</td>\n",
       "      <td>0.014724</td>\n",
       "      <td>-0.342475</td>\n",
       "      <td>0</td>\n",
       "    </tr>\n",
       "    <tr>\n",
       "      <th>2</th>\n",
       "      <td>1.0</td>\n",
       "      <td>-1.358354</td>\n",
       "      <td>-1.340163</td>\n",
       "      <td>1.773209</td>\n",
       "      <td>0.379780</td>\n",
       "      <td>-0.503198</td>\n",
       "      <td>1.800499</td>\n",
       "      <td>0.791461</td>\n",
       "      <td>0.247676</td>\n",
       "      <td>-1.514654</td>\n",
       "      <td>...</td>\n",
       "      <td>0.247998</td>\n",
       "      <td>0.771679</td>\n",
       "      <td>0.909412</td>\n",
       "      <td>-0.689281</td>\n",
       "      <td>-0.327642</td>\n",
       "      <td>-0.139097</td>\n",
       "      <td>-0.055353</td>\n",
       "      <td>-0.059752</td>\n",
       "      <td>1.160686</td>\n",
       "      <td>0</td>\n",
       "    </tr>\n",
       "    <tr>\n",
       "      <th>3</th>\n",
       "      <td>1.0</td>\n",
       "      <td>-0.966272</td>\n",
       "      <td>-0.185226</td>\n",
       "      <td>1.792993</td>\n",
       "      <td>-0.863291</td>\n",
       "      <td>-0.010309</td>\n",
       "      <td>1.247203</td>\n",
       "      <td>0.237609</td>\n",
       "      <td>0.377436</td>\n",
       "      <td>-1.387024</td>\n",
       "      <td>...</td>\n",
       "      <td>-0.108300</td>\n",
       "      <td>0.005274</td>\n",
       "      <td>-0.190321</td>\n",
       "      <td>-1.175575</td>\n",
       "      <td>0.647376</td>\n",
       "      <td>-0.221929</td>\n",
       "      <td>0.062723</td>\n",
       "      <td>0.061458</td>\n",
       "      <td>0.140534</td>\n",
       "      <td>0</td>\n",
       "    </tr>\n",
       "    <tr>\n",
       "      <th>4</th>\n",
       "      <td>2.0</td>\n",
       "      <td>-1.158233</td>\n",
       "      <td>0.877737</td>\n",
       "      <td>1.548718</td>\n",
       "      <td>0.403034</td>\n",
       "      <td>-0.407193</td>\n",
       "      <td>0.095921</td>\n",
       "      <td>0.592941</td>\n",
       "      <td>-0.270533</td>\n",
       "      <td>0.817739</td>\n",
       "      <td>...</td>\n",
       "      <td>-0.009431</td>\n",
       "      <td>0.798278</td>\n",
       "      <td>-0.137458</td>\n",
       "      <td>0.141267</td>\n",
       "      <td>-0.206010</td>\n",
       "      <td>0.502292</td>\n",
       "      <td>0.219422</td>\n",
       "      <td>0.215153</td>\n",
       "      <td>-0.073403</td>\n",
       "      <td>0</td>\n",
       "    </tr>\n",
       "  </tbody>\n",
       "</table>\n",
       "<p>5 rows × 31 columns</p>\n",
       "</div>"
      ],
      "text/plain": [
       "   Time        V1        V2        V3        V4        V5        V6        V7  \\\n",
       "0   0.0 -1.359807 -0.072781  2.536347  1.378155 -0.338321  0.462388  0.239599   \n",
       "1   0.0  1.191857  0.266151  0.166480  0.448154  0.060018 -0.082361 -0.078803   \n",
       "2   1.0 -1.358354 -1.340163  1.773209  0.379780 -0.503198  1.800499  0.791461   \n",
       "3   1.0 -0.966272 -0.185226  1.792993 -0.863291 -0.010309  1.247203  0.237609   \n",
       "4   2.0 -1.158233  0.877737  1.548718  0.403034 -0.407193  0.095921  0.592941   \n",
       "\n",
       "         V8        V9  ...       V21       V22       V23       V24       V25  \\\n",
       "0  0.098698  0.363787  ... -0.018307  0.277838 -0.110474  0.066928  0.128539   \n",
       "1  0.085102 -0.255425  ... -0.225775 -0.638672  0.101288 -0.339846  0.167170   \n",
       "2  0.247676 -1.514654  ...  0.247998  0.771679  0.909412 -0.689281 -0.327642   \n",
       "3  0.377436 -1.387024  ... -0.108300  0.005274 -0.190321 -1.175575  0.647376   \n",
       "4 -0.270533  0.817739  ... -0.009431  0.798278 -0.137458  0.141267 -0.206010   \n",
       "\n",
       "        V26       V27       V28    Amount  Class  \n",
       "0 -0.189115  0.133558 -0.021053  0.244964      0  \n",
       "1  0.125895 -0.008983  0.014724 -0.342475      0  \n",
       "2 -0.139097 -0.055353 -0.059752  1.160686      0  \n",
       "3 -0.221929  0.062723  0.061458  0.140534      0  \n",
       "4  0.502292  0.219422  0.215153 -0.073403      0  \n",
       "\n",
       "[5 rows x 31 columns]"
      ]
     },
     "execution_count": 49,
     "metadata": {},
     "output_type": "execute_result"
    }
   ],
   "source": [
    "df.head()"
   ]
  },
  {
   "cell_type": "code",
   "execution_count": 50,
   "id": "c0df40fa",
   "metadata": {},
   "outputs": [],
   "source": [
    "df = df.drop_duplicates()\n",
    "df = df.drop(['Time'],axis=1)"
   ]
  },
  {
   "cell_type": "code",
   "execution_count": 51,
   "id": "649172d2",
   "metadata": {},
   "outputs": [
    {
     "data": {
      "text/plain": [
       "(283726, 30)"
      ]
     },
     "execution_count": 51,
     "metadata": {},
     "output_type": "execute_result"
    }
   ],
   "source": [
    "df.shape"
   ]
  },
  {
   "cell_type": "code",
   "execution_count": 52,
   "id": "5a0398b2",
   "metadata": {},
   "outputs": [
    {
     "data": {
      "text/plain": [
       "0    283253\n",
       "1       473\n",
       "Name: Class, dtype: int64"
      ]
     },
     "execution_count": 52,
     "metadata": {},
     "output_type": "execute_result"
    }
   ],
   "source": [
    "df['Class'].value_counts()"
   ]
  },
  {
   "cell_type": "code",
   "execution_count": 53,
   "id": "46d3f9c9",
   "metadata": {},
   "outputs": [
    {
     "name": "stderr",
     "output_type": "stream",
     "text": [
      "C:\\Users\\shivk\\anaconda3\\lib\\site-packages\\seaborn\\_decorators.py:36: FutureWarning: Pass the following variable as a keyword arg: x. From version 0.12, the only valid positional argument will be `data`, and passing other arguments without an explicit keyword will result in an error or misinterpretation.\n",
      "  warnings.warn(\n"
     ]
    },
    {
     "data": {
      "text/plain": [
       "<AxesSubplot:xlabel='Class', ylabel='count'>"
      ]
     },
     "execution_count": 53,
     "metadata": {},
     "output_type": "execute_result"
    },
    {
     "data": {
      "image/png": "[encoded data removed]",
      "text/plain": [
       "<Figure size 432x288 with 1 Axes>"
      ]
     },
     "metadata": {
      "needs_background": "light"
     },
     "output_type": "display_data"
    }
   ],
   "source": [
    "import seaborn as sns\n",
    "sns.countplot(df['Class'])"
   ]
  },
  {
   "cell_type": "markdown",
   "id": "2c90d7e5",
   "metadata": {},
   "source": [
    " The data is unbalanced so before applying train test split we use undersampling\n",
    " but before this we store our proessed data into new variable backup_df"
   ]
  },
  {
   "cell_type": "code",
   "execution_count": 54,
   "id": "d2639485",
   "metadata": {},
   "outputs": [],
   "source": [
    "backup_df = df\n",
    "Not_fraud = df[df['Class']==0]\n",
    "fraud = df[df['Class']==1]"
   ]
  },
  {
   "cell_type": "code",
   "execution_count": 55,
   "id": "321325fc",
   "metadata": {},
   "outputs": [
    {
     "data": {
      "text/plain": [
       "((283253, 30), (473, 30))"
      ]
     },
     "execution_count": 55,
     "metadata": {},
     "output_type": "execute_result"
    }
   ],
   "source": [
    "Not_fraud.shape,fraud.shape"
   ]
  },
  {
   "cell_type": "code",
   "execution_count": 56,
   "id": "2be6f486",
   "metadata": {},
   "outputs": [],
   "source": [
    "Not_fraud_Sample = Not_fraud.sample(n=473)"
   ]
  },
  {
   "cell_type": "code",
   "execution_count": 57,
   "id": "27e0a417",
   "metadata": {},
   "outputs": [
    {
     "data": {
      "text/html": [
       "<div>\n",
       "<style scoped>\n",
       "    .dataframe tbody tr th:only-of-type {\n",
       "        vertical-align: middle;\n",
       "    }\n",
       "\n",
       "    .dataframe tbody tr th {\n",
       "        vertical-align: top;\n",
       "    }\n",
       "\n",
       "    .dataframe thead th {\n",
       "        text-align: right;\n",
       "    }\n",
       "</style>\n",
       "<table border=\"1\" class=\"dataframe\">\n",
       "  <thead>\n",
       "    <tr style=\"text-align: right;\">\n",
       "      <th></th>\n",
       "      <th>V1</th>\n",
       "      <th>V2</th>\n",
       "      <th>V3</th>\n",
       "      <th>V4</th>\n",
       "      <th>V5</th>\n",
       "      <th>V6</th>\n",
       "      <th>V7</th>\n",
       "      <th>V8</th>\n",
       "      <th>V9</th>\n",
       "      <th>V10</th>\n",
       "      <th>...</th>\n",
       "      <th>V21</th>\n",
       "      <th>V22</th>\n",
       "      <th>V23</th>\n",
       "      <th>V24</th>\n",
       "      <th>V25</th>\n",
       "      <th>V26</th>\n",
       "      <th>V27</th>\n",
       "      <th>V28</th>\n",
       "      <th>Amount</th>\n",
       "      <th>Class</th>\n",
       "    </tr>\n",
       "  </thead>\n",
       "  <tbody>\n",
       "    <tr>\n",
       "      <th>207024</th>\n",
       "      <td>-0.088833</td>\n",
       "      <td>-0.281673</td>\n",
       "      <td>0.715808</td>\n",
       "      <td>-1.181930</td>\n",
       "      <td>-0.357548</td>\n",
       "      <td>-0.561885</td>\n",
       "      <td>0.036133</td>\n",
       "      <td>0.016910</td>\n",
       "      <td>-1.242344</td>\n",
       "      <td>0.509476</td>\n",
       "      <td>...</td>\n",
       "      <td>0.443132</td>\n",
       "      <td>1.132987</td>\n",
       "      <td>-0.037720</td>\n",
       "      <td>0.027770</td>\n",
       "      <td>-0.563694</td>\n",
       "      <td>-0.017736</td>\n",
       "      <td>0.163887</td>\n",
       "      <td>0.178206</td>\n",
       "      <td>-0.161241</td>\n",
       "      <td>0</td>\n",
       "    </tr>\n",
       "    <tr>\n",
       "      <th>213133</th>\n",
       "      <td>2.024089</td>\n",
       "      <td>-0.233295</td>\n",
       "      <td>-1.861231</td>\n",
       "      <td>-0.254993</td>\n",
       "      <td>0.495906</td>\n",
       "      <td>-0.513481</td>\n",
       "      <td>0.233598</td>\n",
       "      <td>-0.129928</td>\n",
       "      <td>0.392020</td>\n",
       "      <td>0.125752</td>\n",
       "      <td>...</td>\n",
       "      <td>-0.127763</td>\n",
       "      <td>-0.486845</td>\n",
       "      <td>0.178549</td>\n",
       "      <td>0.160846</td>\n",
       "      <td>-0.062439</td>\n",
       "      <td>-0.177545</td>\n",
       "      <td>-0.077590</td>\n",
       "      <td>-0.064250</td>\n",
       "      <td>-0.193306</td>\n",
       "      <td>0</td>\n",
       "    </tr>\n",
       "    <tr>\n",
       "      <th>237681</th>\n",
       "      <td>2.156549</td>\n",
       "      <td>-0.818842</td>\n",
       "      <td>-1.384785</td>\n",
       "      <td>-0.693666</td>\n",
       "      <td>-0.669907</td>\n",
       "      <td>-0.569980</td>\n",
       "      <td>-1.055265</td>\n",
       "      <td>0.039601</td>\n",
       "      <td>0.343197</td>\n",
       "      <td>0.125990</td>\n",
       "      <td>...</td>\n",
       "      <td>0.196487</td>\n",
       "      <td>0.523064</td>\n",
       "      <td>0.117805</td>\n",
       "      <td>0.325258</td>\n",
       "      <td>-0.152966</td>\n",
       "      <td>-0.099683</td>\n",
       "      <td>0.010777</td>\n",
       "      <td>-0.010094</td>\n",
       "      <td>-0.253317</td>\n",
       "      <td>0</td>\n",
       "    </tr>\n",
       "    <tr>\n",
       "      <th>101196</th>\n",
       "      <td>-0.574820</td>\n",
       "      <td>0.263213</td>\n",
       "      <td>1.596824</td>\n",
       "      <td>-2.139877</td>\n",
       "      <td>0.192629</td>\n",
       "      <td>-0.417104</td>\n",
       "      <td>0.573291</td>\n",
       "      <td>-0.151577</td>\n",
       "      <td>1.598544</td>\n",
       "      <td>-1.462818</td>\n",
       "      <td>...</td>\n",
       "      <td>0.069432</td>\n",
       "      <td>0.741958</td>\n",
       "      <td>-0.453438</td>\n",
       "      <td>-0.395952</td>\n",
       "      <td>0.407160</td>\n",
       "      <td>-0.702616</td>\n",
       "      <td>0.250465</td>\n",
       "      <td>-0.032671</td>\n",
       "      <td>-0.304613</td>\n",
       "      <td>0</td>\n",
       "    </tr>\n",
       "    <tr>\n",
       "      <th>262549</th>\n",
       "      <td>-3.525176</td>\n",
       "      <td>2.854244</td>\n",
       "      <td>-0.332383</td>\n",
       "      <td>-1.642651</td>\n",
       "      <td>0.311243</td>\n",
       "      <td>-0.453684</td>\n",
       "      <td>0.861388</td>\n",
       "      <td>-0.590111</td>\n",
       "      <td>3.355676</td>\n",
       "      <td>3.238704</td>\n",
       "      <td>...</td>\n",
       "      <td>-0.824373</td>\n",
       "      <td>-0.635600</td>\n",
       "      <td>0.042305</td>\n",
       "      <td>-0.865703</td>\n",
       "      <td>0.240846</td>\n",
       "      <td>-0.460757</td>\n",
       "      <td>-1.278058</td>\n",
       "      <td>-1.413282</td>\n",
       "      <td>-0.350151</td>\n",
       "      <td>0</td>\n",
       "    </tr>\n",
       "    <tr>\n",
       "      <th>...</th>\n",
       "      <td>...</td>\n",
       "      <td>...</td>\n",
       "      <td>...</td>\n",
       "      <td>...</td>\n",
       "      <td>...</td>\n",
       "      <td>...</td>\n",
       "      <td>...</td>\n",
       "      <td>...</td>\n",
       "      <td>...</td>\n",
       "      <td>...</td>\n",
       "      <td>...</td>\n",
       "      <td>...</td>\n",
       "      <td>...</td>\n",
       "      <td>...</td>\n",
       "      <td>...</td>\n",
       "      <td>...</td>\n",
       "      <td>...</td>\n",
       "      <td>...</td>\n",
       "      <td>...</td>\n",
       "      <td>...</td>\n",
       "      <td>...</td>\n",
       "    </tr>\n",
       "    <tr>\n",
       "      <th>125591</th>\n",
       "      <td>-1.758390</td>\n",
       "      <td>0.072970</td>\n",
       "      <td>1.478623</td>\n",
       "      <td>1.053504</td>\n",
       "      <td>0.463200</td>\n",
       "      <td>-1.632388</td>\n",
       "      <td>-0.312861</td>\n",
       "      <td>0.361823</td>\n",
       "      <td>-1.001317</td>\n",
       "      <td>-0.764599</td>\n",
       "      <td>...</td>\n",
       "      <td>-0.041359</td>\n",
       "      <td>-0.720545</td>\n",
       "      <td>-0.079879</td>\n",
       "      <td>0.703401</td>\n",
       "      <td>-0.024234</td>\n",
       "      <td>0.241944</td>\n",
       "      <td>-0.053362</td>\n",
       "      <td>-0.177741</td>\n",
       "      <td>-0.345313</td>\n",
       "      <td>0</td>\n",
       "    </tr>\n",
       "    <tr>\n",
       "      <th>103670</th>\n",
       "      <td>-1.816400</td>\n",
       "      <td>-0.052986</td>\n",
       "      <td>2.231573</td>\n",
       "      <td>0.450221</td>\n",
       "      <td>1.460554</td>\n",
       "      <td>-0.163411</td>\n",
       "      <td>-0.247330</td>\n",
       "      <td>0.291746</td>\n",
       "      <td>-1.133645</td>\n",
       "      <td>0.059068</td>\n",
       "      <td>...</td>\n",
       "      <td>0.160355</td>\n",
       "      <td>0.409085</td>\n",
       "      <td>-0.520793</td>\n",
       "      <td>-0.210680</td>\n",
       "      <td>0.225682</td>\n",
       "      <td>0.929605</td>\n",
       "      <td>-0.012579</td>\n",
       "      <td>-0.023993</td>\n",
       "      <td>-0.276866</td>\n",
       "      <td>0</td>\n",
       "    </tr>\n",
       "    <tr>\n",
       "      <th>76097</th>\n",
       "      <td>1.058605</td>\n",
       "      <td>-0.578154</td>\n",
       "      <td>1.084367</td>\n",
       "      <td>0.049894</td>\n",
       "      <td>-0.827569</td>\n",
       "      <td>0.872234</td>\n",
       "      <td>-0.933233</td>\n",
       "      <td>0.507671</td>\n",
       "      <td>1.018488</td>\n",
       "      <td>-0.361406</td>\n",
       "      <td>...</td>\n",
       "      <td>-0.125390</td>\n",
       "      <td>-0.119034</td>\n",
       "      <td>0.124776</td>\n",
       "      <td>-0.214339</td>\n",
       "      <td>-0.063831</td>\n",
       "      <td>0.984587</td>\n",
       "      <td>-0.010073</td>\n",
       "      <td>-0.001713</td>\n",
       "      <td>-0.273268</td>\n",
       "      <td>0</td>\n",
       "    </tr>\n",
       "    <tr>\n",
       "      <th>149034</th>\n",
       "      <td>1.987456</td>\n",
       "      <td>-0.354648</td>\n",
       "      <td>-0.162174</td>\n",
       "      <td>0.709140</td>\n",
       "      <td>-0.751343</td>\n",
       "      <td>-0.509076</td>\n",
       "      <td>-0.746817</td>\n",
       "      <td>-0.091547</td>\n",
       "      <td>2.883632</td>\n",
       "      <td>-0.512668</td>\n",
       "      <td>...</td>\n",
       "      <td>0.024815</td>\n",
       "      <td>0.541067</td>\n",
       "      <td>0.122172</td>\n",
       "      <td>-0.167573</td>\n",
       "      <td>-0.127166</td>\n",
       "      <td>-0.242032</td>\n",
       "      <td>0.009690</td>\n",
       "      <td>-0.045837</td>\n",
       "      <td>-0.313289</td>\n",
       "      <td>0</td>\n",
       "    </tr>\n",
       "    <tr>\n",
       "      <th>107581</th>\n",
       "      <td>-0.223222</td>\n",
       "      <td>0.818467</td>\n",
       "      <td>1.561874</td>\n",
       "      <td>0.347817</td>\n",
       "      <td>0.533981</td>\n",
       "      <td>-0.380731</td>\n",
       "      <td>0.947532</td>\n",
       "      <td>-0.464293</td>\n",
       "      <td>-0.216903</td>\n",
       "      <td>-0.014510</td>\n",
       "      <td>...</td>\n",
       "      <td>-0.217004</td>\n",
       "      <td>-0.299843</td>\n",
       "      <td>0.032885</td>\n",
       "      <td>0.033785</td>\n",
       "      <td>-0.869651</td>\n",
       "      <td>0.048662</td>\n",
       "      <td>-0.313294</td>\n",
       "      <td>-0.265121</td>\n",
       "      <td>-0.323604</td>\n",
       "      <td>0</td>\n",
       "    </tr>\n",
       "  </tbody>\n",
       "</table>\n",
       "<p>473 rows × 30 columns</p>\n",
       "</div>"
      ],
      "text/plain": [
       "              V1        V2        V3        V4        V5        V6        V7  \\\n",
       "207024 -0.088833 -0.281673  0.715808 -1.181930 -0.357548 -0.561885  0.036133   \n",
       "213133  2.024089 -0.233295 -1.861231 -0.254993  0.495906 -0.513481  0.233598   \n",
       "237681  2.156549 -0.818842 -1.384785 -0.693666 -0.669907 -0.569980 -1.055265   \n",
       "101196 -0.574820  0.263213  1.596824 -2.139877  0.192629 -0.417104  0.573291   \n",
       "262549 -3.525176  2.854244 -0.332383 -1.642651  0.311243 -0.453684  0.861388   \n",
       "...          ...       ...       ...       ...       ...       ...       ...   \n",
       "125591 -1.758390  0.072970  1.478623  1.053504  0.463200 -1.632388 -0.312861   \n",
       "103670 -1.816400 -0.052986  2.231573  0.450221  1.460554 -0.163411 -0.247330   \n",
       "76097   1.058605 -0.578154  1.084367  0.049894 -0.827569  0.872234 -0.933233   \n",
       "149034  1.987456 -0.354648 -0.162174  0.709140 -0.751343 -0.509076 -0.746817   \n",
       "107581 -0.223222  0.818467  1.561874  0.347817  0.533981 -0.380731  0.947532   \n",
       "\n",
       "              V8        V9       V10  ...       V21       V22       V23  \\\n",
       "207024  0.016910 -1.242344  0.509476  ...  0.443132  1.132987 -0.037720   \n",
       "213133 -0.129928  0.392020  0.125752  ... -0.127763 -0.486845  0.178549   \n",
       "237681  0.039601  0.343197  0.125990  ...  0.196487  0.523064  0.117805   \n",
       "101196 -0.151577  1.598544 -1.462818  ...  0.069432  0.741958 -0.453438   \n",
       "262549 -0.590111  3.355676  3.238704  ... -0.824373 -0.635600  0.042305   \n",
       "...          ...       ...       ...  ...       ...       ...       ...   \n",
       "125591  0.361823 -1.001317 -0.764599  ... -0.041359 -0.720545 -0.079879   \n",
       "103670  0.291746 -1.133645  0.059068  ...  0.160355  0.409085 -0.520793   \n",
       "76097   0.507671  1.018488 -0.361406  ... -0.125390 -0.119034  0.124776   \n",
       "149034 -0.091547  2.883632 -0.512668  ...  0.024815  0.541067  0.122172   \n",
       "107581 -0.464293 -0.216903 -0.014510  ... -0.217004 -0.299843  0.032885   \n",
       "\n",
       "             V24       V25       V26       V27       V28    Amount  Class  \n",
       "207024  0.027770 -0.563694 -0.017736  0.163887  0.178206 -0.161241      0  \n",
       "213133  0.160846 -0.062439 -0.177545 -0.077590 -0.064250 -0.193306      0  \n",
       "237681  0.325258 -0.152966 -0.099683  0.010777 -0.010094 -0.253317      0  \n",
       "101196 -0.395952  0.407160 -0.702616  0.250465 -0.032671 -0.304613      0  \n",
       "262549 -0.865703  0.240846 -0.460757 -1.278058 -1.413282 -0.350151      0  \n",
       "...          ...       ...       ...       ...       ...       ...    ...  \n",
       "125591  0.703401 -0.024234  0.241944 -0.053362 -0.177741 -0.345313      0  \n",
       "103670 -0.210680  0.225682  0.929605 -0.012579 -0.023993 -0.276866      0  \n",
       "76097  -0.214339 -0.063831  0.984587 -0.010073 -0.001713 -0.273268      0  \n",
       "149034 -0.167573 -0.127166 -0.242032  0.009690 -0.045837 -0.313289      0  \n",
       "107581  0.033785 -0.869651  0.048662 -0.313294 -0.265121 -0.323604      0  \n",
       "\n",
       "[473 rows x 30 columns]"
      ]
     },
     "execution_count": 57,
     "metadata": {},
     "output_type": "execute_result"
    }
   ],
   "source": [
    "Not_fraud_Sample"
   ]
  },
  {
   "cell_type": "code",
   "execution_count": 58,
   "id": "e59c5a21",
   "metadata": {},
   "outputs": [
    {
     "data": {
      "text/plain": [
       "(283726, 30)"
      ]
     },
     "execution_count": 58,
     "metadata": {},
     "output_type": "execute_result"
    }
   ],
   "source": [
    "df.shape"
   ]
  },
  {
   "cell_type": "code",
   "execution_count": 59,
   "id": "65f95c74",
   "metadata": {},
   "outputs": [],
   "source": [
    "df = pd.concat([Not_fraud_Sample,fraud],ignore_index=True)"
   ]
  },
  {
   "cell_type": "code",
   "execution_count": 60,
   "id": "b40e3b64",
   "metadata": {},
   "outputs": [
    {
     "data": {
      "text/html": [
       "<div>\n",
       "<style scoped>\n",
       "    .dataframe tbody tr th:only-of-type {\n",
       "        vertical-align: middle;\n",
       "    }\n",
       "\n",
       "    .dataframe tbody tr th {\n",
       "        vertical-align: top;\n",
       "    }\n",
       "\n",
       "    .dataframe thead th {\n",
       "        text-align: right;\n",
       "    }\n",
       "</style>\n",
       "<table border=\"1\" class=\"dataframe\">\n",
       "  <thead>\n",
       "    <tr style=\"text-align: right;\">\n",
       "      <th></th>\n",
       "      <th>V1</th>\n",
       "      <th>V2</th>\n",
       "      <th>V3</th>\n",
       "      <th>V4</th>\n",
       "      <th>V5</th>\n",
       "      <th>V6</th>\n",
       "      <th>V7</th>\n",
       "      <th>V8</th>\n",
       "      <th>V9</th>\n",
       "      <th>V10</th>\n",
       "      <th>...</th>\n",
       "      <th>V21</th>\n",
       "      <th>V22</th>\n",
       "      <th>V23</th>\n",
       "      <th>V24</th>\n",
       "      <th>V25</th>\n",
       "      <th>V26</th>\n",
       "      <th>V27</th>\n",
       "      <th>V28</th>\n",
       "      <th>Amount</th>\n",
       "      <th>Class</th>\n",
       "    </tr>\n",
       "  </thead>\n",
       "  <tbody>\n",
       "    <tr>\n",
       "      <th>0</th>\n",
       "      <td>-0.088833</td>\n",
       "      <td>-0.281673</td>\n",
       "      <td>0.715808</td>\n",
       "      <td>-1.181930</td>\n",
       "      <td>-0.357548</td>\n",
       "      <td>-0.561885</td>\n",
       "      <td>0.036133</td>\n",
       "      <td>0.016910</td>\n",
       "      <td>-1.242344</td>\n",
       "      <td>0.509476</td>\n",
       "      <td>...</td>\n",
       "      <td>0.443132</td>\n",
       "      <td>1.132987</td>\n",
       "      <td>-0.037720</td>\n",
       "      <td>0.027770</td>\n",
       "      <td>-0.563694</td>\n",
       "      <td>-0.017736</td>\n",
       "      <td>0.163887</td>\n",
       "      <td>0.178206</td>\n",
       "      <td>-0.161241</td>\n",
       "      <td>0</td>\n",
       "    </tr>\n",
       "    <tr>\n",
       "      <th>1</th>\n",
       "      <td>2.024089</td>\n",
       "      <td>-0.233295</td>\n",
       "      <td>-1.861231</td>\n",
       "      <td>-0.254993</td>\n",
       "      <td>0.495906</td>\n",
       "      <td>-0.513481</td>\n",
       "      <td>0.233598</td>\n",
       "      <td>-0.129928</td>\n",
       "      <td>0.392020</td>\n",
       "      <td>0.125752</td>\n",
       "      <td>...</td>\n",
       "      <td>-0.127763</td>\n",
       "      <td>-0.486845</td>\n",
       "      <td>0.178549</td>\n",
       "      <td>0.160846</td>\n",
       "      <td>-0.062439</td>\n",
       "      <td>-0.177545</td>\n",
       "      <td>-0.077590</td>\n",
       "      <td>-0.064250</td>\n",
       "      <td>-0.193306</td>\n",
       "      <td>0</td>\n",
       "    </tr>\n",
       "    <tr>\n",
       "      <th>2</th>\n",
       "      <td>2.156549</td>\n",
       "      <td>-0.818842</td>\n",
       "      <td>-1.384785</td>\n",
       "      <td>-0.693666</td>\n",
       "      <td>-0.669907</td>\n",
       "      <td>-0.569980</td>\n",
       "      <td>-1.055265</td>\n",
       "      <td>0.039601</td>\n",
       "      <td>0.343197</td>\n",
       "      <td>0.125990</td>\n",
       "      <td>...</td>\n",
       "      <td>0.196487</td>\n",
       "      <td>0.523064</td>\n",
       "      <td>0.117805</td>\n",
       "      <td>0.325258</td>\n",
       "      <td>-0.152966</td>\n",
       "      <td>-0.099683</td>\n",
       "      <td>0.010777</td>\n",
       "      <td>-0.010094</td>\n",
       "      <td>-0.253317</td>\n",
       "      <td>0</td>\n",
       "    </tr>\n",
       "    <tr>\n",
       "      <th>3</th>\n",
       "      <td>-0.574820</td>\n",
       "      <td>0.263213</td>\n",
       "      <td>1.596824</td>\n",
       "      <td>-2.139877</td>\n",
       "      <td>0.192629</td>\n",
       "      <td>-0.417104</td>\n",
       "      <td>0.573291</td>\n",
       "      <td>-0.151577</td>\n",
       "      <td>1.598544</td>\n",
       "      <td>-1.462818</td>\n",
       "      <td>...</td>\n",
       "      <td>0.069432</td>\n",
       "      <td>0.741958</td>\n",
       "      <td>-0.453438</td>\n",
       "      <td>-0.395952</td>\n",
       "      <td>0.407160</td>\n",
       "      <td>-0.702616</td>\n",
       "      <td>0.250465</td>\n",
       "      <td>-0.032671</td>\n",
       "      <td>-0.304613</td>\n",
       "      <td>0</td>\n",
       "    </tr>\n",
       "    <tr>\n",
       "      <th>4</th>\n",
       "      <td>-3.525176</td>\n",
       "      <td>2.854244</td>\n",
       "      <td>-0.332383</td>\n",
       "      <td>-1.642651</td>\n",
       "      <td>0.311243</td>\n",
       "      <td>-0.453684</td>\n",
       "      <td>0.861388</td>\n",
       "      <td>-0.590111</td>\n",
       "      <td>3.355676</td>\n",
       "      <td>3.238704</td>\n",
       "      <td>...</td>\n",
       "      <td>-0.824373</td>\n",
       "      <td>-0.635600</td>\n",
       "      <td>0.042305</td>\n",
       "      <td>-0.865703</td>\n",
       "      <td>0.240846</td>\n",
       "      <td>-0.460757</td>\n",
       "      <td>-1.278058</td>\n",
       "      <td>-1.413282</td>\n",
       "      <td>-0.350151</td>\n",
       "      <td>0</td>\n",
       "    </tr>\n",
       "  </tbody>\n",
       "</table>\n",
       "<p>5 rows × 30 columns</p>\n",
       "</div>"
      ],
      "text/plain": [
       "         V1        V2        V3        V4        V5        V6        V7  \\\n",
       "0 -0.088833 -0.281673  0.715808 -1.181930 -0.357548 -0.561885  0.036133   \n",
       "1  2.024089 -0.233295 -1.861231 -0.254993  0.495906 -0.513481  0.233598   \n",
       "2  2.156549 -0.818842 -1.384785 -0.693666 -0.669907 -0.569980 -1.055265   \n",
       "3 -0.574820  0.263213  1.596824 -2.139877  0.192629 -0.417104  0.573291   \n",
       "4 -3.525176  2.854244 -0.332383 -1.642651  0.311243 -0.453684  0.861388   \n",
       "\n",
       "         V8        V9       V10  ...       V21       V22       V23       V24  \\\n",
       "0  0.016910 -1.242344  0.509476  ...  0.443132  1.132987 -0.037720  0.027770   \n",
       "1 -0.129928  0.392020  0.125752  ... -0.127763 -0.486845  0.178549  0.160846   \n",
       "2  0.039601  0.343197  0.125990  ...  0.196487  0.523064  0.117805  0.325258   \n",
       "3 -0.151577  1.598544 -1.462818  ...  0.069432  0.741958 -0.453438 -0.395952   \n",
       "4 -0.590111  3.355676  3.238704  ... -0.824373 -0.635600  0.042305 -0.865703   \n",
       "\n",
       "        V25       V26       V27       V28    Amount  Class  \n",
       "0 -0.563694 -0.017736  0.163887  0.178206 -0.161241      0  \n",
       "1 -0.062439 -0.177545 -0.077590 -0.064250 -0.193306      0  \n",
       "2 -0.152966 -0.099683  0.010777 -0.010094 -0.253317      0  \n",
       "3  0.407160 -0.702616  0.250465 -0.032671 -0.304613      0  \n",
       "4  0.240846 -0.460757 -1.278058 -1.413282 -0.350151      0  \n",
       "\n",
       "[5 rows x 30 columns]"
      ]
     },
     "execution_count": 60,
     "metadata": {},
     "output_type": "execute_result"
    }
   ],
   "source": [
    "df.head()"
   ]
  },
  {
   "cell_type": "code",
   "execution_count": 61,
   "id": "dd422508",
   "metadata": {},
   "outputs": [
    {
     "data": {
      "text/plain": [
       "(946, 30)"
      ]
     },
     "execution_count": 61,
     "metadata": {},
     "output_type": "execute_result"
    }
   ],
   "source": [
    "df.shape"
   ]
  },
  {
   "cell_type": "code",
   "execution_count": 62,
   "id": "a027400b",
   "metadata": {},
   "outputs": [
    {
     "data": {
      "text/plain": [
       "0    473\n",
       "1    473\n",
       "Name: Class, dtype: int64"
      ]
     },
     "execution_count": 62,
     "metadata": {},
     "output_type": "execute_result"
    }
   ],
   "source": [
    "df['Class'].value_counts()"
   ]
  },
  {
   "cell_type": "code",
   "execution_count": 63,
   "id": "d3e3ae85",
   "metadata": {},
   "outputs": [],
   "source": [
    "x=df.drop('Class',axis=1)\n",
    "y=df['Class']"
   ]
  },
  {
   "cell_type": "code",
   "execution_count": 64,
   "id": "93f6ec0a",
   "metadata": {},
   "outputs": [],
   "source": [
    "from sklearn.model_selection  import train_test_split\n",
    "x_train,x_test,y_train,y_test = train_test_split(x,y,test_size=0.20,random_state=42)"
   ]
  },
  {
   "cell_type": "code",
   "execution_count": 65,
   "id": "cd1b53e6",
   "metadata": {},
   "outputs": [
    {
     "data": {
      "text/plain": [
       "LogisticRegression()"
      ]
     },
     "execution_count": 65,
     "metadata": {},
     "output_type": "execute_result"
    }
   ],
   "source": [
    "# Applying Logistic Regression\n",
    "from sklearn.linear_model import LogisticRegression\n",
    "log = LogisticRegression()\n",
    "log.fit(x_train,y_train)"
   ]
  },
  {
   "cell_type": "code",
   "execution_count": 66,
   "id": "049dbd37",
   "metadata": {},
   "outputs": [],
   "source": [
    "y_pred = log.predict(x_test)"
   ]
  },
  {
   "cell_type": "code",
   "execution_count": 67,
   "id": "4d1b8439",
   "metadata": {},
   "outputs": [],
   "source": [
    "from sklearn.metrics import accuracy_score\n",
    "from sklearn.metrics import precision_score,recall_score,f1_score"
   ]
  },
  {
   "cell_type": "code",
   "execution_count": 68,
   "id": "e0d5d659",
   "metadata": {},
   "outputs": [
    {
     "data": {
      "text/plain": [
       "0.9473684210526315"
      ]
     },
     "execution_count": 68,
     "metadata": {},
     "output_type": "execute_result"
    }
   ],
   "source": [
    "accuracy_score(y_test,y_pred)"
   ]
  },
  {
   "cell_type": "code",
   "execution_count": 69,
   "id": "5c9c4ca8",
   "metadata": {},
   "outputs": [
    {
     "data": {
      "text/plain": [
       "0.9893617021276596"
      ]
     },
     "execution_count": 69,
     "metadata": {},
     "output_type": "execute_result"
    }
   ],
   "source": [
    "precision_score(y_test,y_pred)"
   ]
  },
  {
   "cell_type": "code",
   "execution_count": 70,
   "id": "b7aa1ad0",
   "metadata": {},
   "outputs": [
    {
     "data": {
      "text/plain": [
       "0.9117647058823529"
      ]
     },
     "execution_count": 70,
     "metadata": {},
     "output_type": "execute_result"
    }
   ],
   "source": [
    "recall_score(y_test,y_pred)"
   ]
  },
  {
   "cell_type": "code",
   "execution_count": 71,
   "id": "ee4eccc8",
   "metadata": {},
   "outputs": [
    {
     "data": {
      "text/plain": [
       "0.9489795918367346"
      ]
     },
     "execution_count": 71,
     "metadata": {},
     "output_type": "execute_result"
    }
   ],
   "source": [
    "f1_score(y_test,y_pred)"
   ]
  },
  {
   "cell_type": "code",
   "execution_count": 72,
   "id": "59962038",
   "metadata": {},
   "outputs": [
    {
     "data": {
      "text/plain": [
       "DecisionTreeClassifier()"
      ]
     },
     "execution_count": 72,
     "metadata": {},
     "output_type": "execute_result"
    }
   ],
   "source": [
    "# Let also use Decision Tree\n",
    "from sklearn.tree import DecisionTreeClassifier\n",
    "dt = DecisionTreeClassifier()\n",
    "dt.fit(x_train,y_train)"
   ]
  },
  {
   "cell_type": "code",
   "execution_count": 73,
   "id": "fa9d2660",
   "metadata": {},
   "outputs": [],
   "source": [
    "dt_pred = dt.predict(x_test)"
   ]
  },
  {
   "cell_type": "code",
   "execution_count": 74,
   "id": "ac530e42",
   "metadata": {},
   "outputs": [
    {
     "data": {
      "text/plain": [
       "0.9157894736842105"
      ]
     },
     "execution_count": 74,
     "metadata": {},
     "output_type": "execute_result"
    }
   ],
   "source": [
    "accuracy_score(y_test,dt_pred)"
   ]
  },
  {
   "cell_type": "code",
   "execution_count": 75,
   "id": "697cb698",
   "metadata": {},
   "outputs": [
    {
     "data": {
      "text/plain": [
       "0.9215686274509803"
      ]
     },
     "execution_count": 75,
     "metadata": {},
     "output_type": "execute_result"
    }
   ],
   "source": [
    "precision_score(y_test,dt_pred)"
   ]
  },
  {
   "cell_type": "code",
   "execution_count": 76,
   "id": "ccf768e2",
   "metadata": {},
   "outputs": [
    {
     "data": {
      "text/plain": [
       "0.9117647058823529"
      ]
     },
     "execution_count": 76,
     "metadata": {},
     "output_type": "execute_result"
    }
   ],
   "source": [
    "recall_score(y_test,y_pred)"
   ]
  },
  {
   "cell_type": "code",
   "execution_count": 77,
   "id": "f6c8c29c",
   "metadata": {},
   "outputs": [
    {
     "data": {
      "text/plain": [
       "0.9215686274509803"
      ]
     },
     "execution_count": 77,
     "metadata": {},
     "output_type": "execute_result"
    }
   ],
   "source": [
    "f1_score(y_test,dt_pred)"
   ]
  },
  {
   "cell_type": "markdown",
   "id": "21db6856",
   "metadata": {},
   "source": [
    "Now we use Oversampling because we loss a lot data on doing undersampling \n",
    "we do Oversampling using SMOTE (most common method)\n",
    "In this case we generate data for minority class which are not duplicate of given data but slightly dff \n",
    "from minority class datapoint\n",
    "Now we use our backup data\n"
   ]
  },
  {
   "cell_type": "code",
   "execution_count": 99,
   "id": "3fffb892",
   "metadata": {},
   "outputs": [],
   "source": [
    "x=backup_df.drop('Class',axis=1)\n",
    "y=backup_df['Class']"
   ]
  },
  {
   "cell_type": "code",
   "execution_count": 100,
   "id": "17e8f718",
   "metadata": {},
   "outputs": [
    {
     "data": {
      "text/plain": [
       "(283726, 29)"
      ]
     },
     "execution_count": 100,
     "metadata": {},
     "output_type": "execute_result"
    }
   ],
   "source": [
    "x.shape"
   ]
  },
  {
   "cell_type": "code",
   "execution_count": 101,
   "id": "55f95fdc",
   "metadata": {},
   "outputs": [
    {
     "data": {
      "text/plain": [
       "(283726,)"
      ]
     },
     "execution_count": 101,
     "metadata": {},
     "output_type": "execute_result"
    }
   ],
   "source": [
    "y.shape"
   ]
  },
  {
   "cell_type": "code",
   "execution_count": 103,
   "id": "50f5cb81",
   "metadata": {},
   "outputs": [],
   "source": [
    "from imblearn.over_sampling import SMOTE\n",
    "import warnings\n",
    "warnings.filterwarnings('ignore')"
   ]
  },
  {
   "cell_type": "code",
   "execution_count": 104,
   "id": "391a8d73",
   "metadata": {},
   "outputs": [],
   "source": [
    "x_res,y_res = SMOTE().fit_resample(x,y)"
   ]
  },
  {
   "cell_type": "code",
   "execution_count": 105,
   "id": "f49fb326",
   "metadata": {},
   "outputs": [
    {
     "data": {
      "text/plain": [
       "0    283253\n",
       "1    283253\n",
       "Name: Class, dtype: int64"
      ]
     },
     "execution_count": 105,
     "metadata": {},
     "output_type": "execute_result"
    }
   ],
   "source": [
    "y_res.value_counts()"
   ]
  },
  {
   "cell_type": "code",
   "execution_count": 106,
   "id": "fb0df331",
   "metadata": {},
   "outputs": [],
   "source": [
    "from sklearn.model_selection  import train_test_split\n",
    "x_train,x_test,y_train,y_test = train_test_split(x_res,y_res,test_size=0.20,random_state=42)"
   ]
  },
  {
   "cell_type": "code",
   "execution_count": 107,
   "id": "3a3439bf",
   "metadata": {},
   "outputs": [
    {
     "data": {
      "text/plain": [
       "LogisticRegression()"
      ]
     },
     "execution_count": 107,
     "metadata": {},
     "output_type": "execute_result"
    }
   ],
   "source": [
    "log = LogisticRegression()\n",
    "log.fit(x_train,y_train)"
   ]
  },
  {
   "cell_type": "code",
   "execution_count": 108,
   "id": "a0d7b5ed",
   "metadata": {},
   "outputs": [],
   "source": [
    "y_pred = log.predict(x_test)"
   ]
  },
  {
   "cell_type": "code",
   "execution_count": 109,
   "id": "3ff9caa9",
   "metadata": {},
   "outputs": [
    {
     "data": {
      "text/plain": [
       "0.9450583396586115"
      ]
     },
     "execution_count": 109,
     "metadata": {},
     "output_type": "execute_result"
    }
   ],
   "source": [
    "accuracy_score(y_test,y_pred)"
   ]
  },
  {
   "cell_type": "code",
   "execution_count": 110,
   "id": "b83c011c",
   "metadata": {},
   "outputs": [
    {
     "data": {
      "text/plain": [
       "0.9725510699480898"
      ]
     },
     "execution_count": 110,
     "metadata": {},
     "output_type": "execute_result"
    }
   ],
   "source": [
    "precision_score(y_test,y_pred)"
   ]
  },
  {
   "cell_type": "code",
   "execution_count": 111,
   "id": "289bab41",
   "metadata": {},
   "outputs": [
    {
     "data": {
      "text/plain": [
       "0.916342652052288"
      ]
     },
     "execution_count": 111,
     "metadata": {},
     "output_type": "execute_result"
    }
   ],
   "source": [
    "recall_score(y_test,y_pred)"
   ]
  },
  {
   "cell_type": "code",
   "execution_count": 112,
   "id": "79b7351d",
   "metadata": {},
   "outputs": [
    {
     "data": {
      "text/plain": [
       "0.9436105550170754"
      ]
     },
     "execution_count": 112,
     "metadata": {},
     "output_type": "execute_result"
    }
   ],
   "source": [
    "f1_score(y_test,y_pred)"
   ]
  },
  {
   "cell_type": "code",
   "execution_count": 113,
   "id": "697def1b",
   "metadata": {},
   "outputs": [
    {
     "data": {
      "text/plain": [
       "DecisionTreeClassifier()"
      ]
     },
     "execution_count": 113,
     "metadata": {},
     "output_type": "execute_result"
    }
   ],
   "source": [
    "dt = DecisionTreeClassifier()\n",
    "dt.fit(x_train,y_train)"
   ]
  },
  {
   "cell_type": "code",
   "execution_count": 114,
   "id": "2f602217",
   "metadata": {},
   "outputs": [],
   "source": [
    "dt_pred = dt.predict(x_test)"
   ]
  },
  {
   "cell_type": "code",
   "execution_count": 115,
   "id": "51756c85",
   "metadata": {},
   "outputs": [
    {
     "data": {
      "text/plain": [
       "0.9983848475755062"
      ]
     },
     "execution_count": 115,
     "metadata": {},
     "output_type": "execute_result"
    }
   ],
   "source": [
    "accuracy_score(y_test,dt_pred)"
   ]
  },
  {
   "cell_type": "code",
   "execution_count": 116,
   "id": "0ebfa3d2",
   "metadata": {},
   "outputs": [
    {
     "data": {
      "text/plain": [
       "0.9991731029750699"
      ]
     },
     "execution_count": 116,
     "metadata": {},
     "output_type": "execute_result"
    }
   ],
   "source": [
    "recall_score(y_test,dt_pred)"
   ]
  },
  {
   "cell_type": "code",
   "execution_count": 117,
   "id": "a4796ac4",
   "metadata": {},
   "outputs": [
    {
     "data": {
      "text/plain": [
       "0.9983914491900111"
      ]
     },
     "execution_count": 117,
     "metadata": {},
     "output_type": "execute_result"
    }
   ],
   "source": [
    "f1_score(y_test,dt_pred)"
   ]
  },
  {
   "cell_type": "code",
   "execution_count": 118,
   "id": "945ead56",
   "metadata": {},
   "outputs": [
    {
     "data": {
      "text/plain": [
       "0.9976110174255199"
      ]
     },
     "execution_count": 118,
     "metadata": {},
     "output_type": "execute_result"
    }
   ],
   "source": [
    "precision_score(y_test,dt_pred)"
   ]
  },
  {
   "cell_type": "code",
   "execution_count": 98,
   "id": "78efc1f9",
   "metadata": {},
   "outputs": [],
   "source": []
  },
  {
   "cell_type": "code",
   "execution_count": null,
   "id": "45d9ec36",
   "metadata": {},
   "outputs": [],
   "source": []
  },
  {
   "cell_type": "code",
   "execution_count": null,
   "id": "552b7e92",
   "metadata": {},
   "outputs": [],
   "source": []
  },
  {
   "cell_type": "code",
   "execution_count": null,
   "id": "65e162ad",
   "metadata": {},
   "outputs": [],
   "source": []
  },
  {
   "cell_type": "code",
   "execution_count": null,
   "id": "4c7666d8",
   "metadata": {},
   "outputs": [],
   "source": []
  },
  {
   "cell_type": "code",
   "execution_count": null,
   "id": "10d345db",
   "metadata": {},
   "outputs": [],
   "source": []
  },
  {
   "cell_type": "code",
   "execution_count": null,
   "id": "628f439b",
   "metadata": {},
   "outputs": [],
   "source": []
  },
  {
   "cell_type": "code",
   "execution_count": null,
   "id": "3dc03122",
   "metadata": {},
   "outputs": [],
   "source": []
  },
  {
   "cell_type": "code",
   "execution_count": null,
   "id": "321676a1",
   "metadata": {},
   "outputs": [],
   "source": []
  },
  {
   "cell_type": "code",
   "execution_count": null,
   "id": "d54396bc",
   "metadata": {},
   "outputs": [],
   "source": []
  },
  {
   "cell_type": "code",
   "execution_count": null,
   "id": "63c8bd4a",
   "metadata": {},
   "outputs": [],
   "source": []
  },
  {
   "cell_type": "code",
   "execution_count": null,
   "id": "2d0d1d1c",
   "metadata": {},
   "outputs": [],
   "source": []
  },
  {
   "cell_type": "code",
   "execution_count": null,
   "id": "1f207ef6",
   "metadata": {},
   "outputs": [],
   "source": []
  },
  {
   "cell_type": "code",
   "execution_count": null,
   "id": "cac76280",
   "metadata": {},
   "outputs": [],
   "source": []
  },
  {
   "cell_type": "code",
   "execution_count": null,
   "id": "64b73eef",
   "metadata": {},
   "outputs": [],
   "source": []
  },
  {
   "cell_type": "code",
   "execution_count": null,
   "id": "4abb6273",
   "metadata": {},
   "outputs": [],
   "source": []
  },
  {
   "cell_type": "code",
   "execution_count": null,
   "id": "c092c66e",
   "metadata": {},
   "outputs": [],
   "source": []
  },
  {
   "cell_type": "code",
   "execution_count": null,
   "id": "2899707e",
   "metadata": {},
   "outputs": [],
   "source": []
  },
  {
   "cell_type": "code",
   "execution_count": null,
   "id": "6cedf900",
   "metadata": {},
   "outputs": [],
   "source": []
  },
  {
   "cell_type": "code",
   "execution_count": null,
   "id": "9952218e",
   "metadata": {},
   "outputs": [],
   "source": []
  },
  {
   "cell_type": "code",
   "execution_count": null,
   "id": "f0439ca7",
   "metadata": {},
   "outputs": [],
   "source": []
  },
  {
   "cell_type": "code",
   "execution_count": null,
   "id": "004b946b",
   "metadata": {},
   "outputs": [],
   "source": []
  },
  {
   "cell_type": "code",
   "execution_count": null,
   "id": "b7ae9a3c",
   "metadata": {},
   "outputs": [],
   "source": []
  },
  {
   "cell_type": "code",
   "execution_count": null,
   "id": "fc835722",
   "metadata": {},
   "outputs": [],
   "source": []
  },
  {
   "cell_type": "code",
   "execution_count": null,
   "id": "d3e33ece",
   "metadata": {},
   "outputs": [],
   "source": []
  },
  {
   "cell_type": "code",
   "execution_count": null,
   "id": "d4af069f",
   "metadata": {},
   "outputs": [],
   "source": []
  },
  {
   "cell_type": "code",
   "execution_count": null,
   "id": "cdb91502",
   "metadata": {},
   "outputs": [],
   "source": []
  },
  {
   "cell_type": "code",
   "execution_count": null,
   "id": "cd7ee2fc",
   "metadata": {},
   "outputs": [],
   "source": []
  },
  {
   "cell_type": "code",
   "execution_count": null,
   "id": "3b0057ba",
   "metadata": {},
   "outputs": [],
   "source": []
  },
  {
   "cell_type": "code",
   "execution_count": null,
   "id": "3af8a777",
   "metadata": {},
   "outputs": [],
   "source": []
  },
  {
   "cell_type": "code",
   "execution_count": null,
   "id": "0863600d",
   "metadata": {},
   "outputs": [],
   "source": []
  },
  {
   "cell_type": "code",
   "execution_count": null,
   "id": "01aa49cb",
   "metadata": {},
   "outputs": [],
   "source": []
  },
  {
   "cell_type": "code",
   "execution_count": null,
   "id": "68aafaaf",
   "metadata": {},
   "outputs": [],
   "source": []
  }
 ],
 "metadata": {
  "kernelspec": {
   "display_name": "Python 3 (ipykernel)",
   "language": "python",
   "name": "python3"
  },
  "language_info": {
   "codemirror_mode": {
    "name": "ipython",
    "version": 3
   },
   "file_extension": ".py",
   "mimetype": "text/x-python",
   "name": "python",
   "nbconvert_exporter": "python",
   "pygments_lexer": "ipython3",
   "version": "3.9.12"
  }
 },
 "nbformat": 4,
 "nbformat_minor": 5
}
